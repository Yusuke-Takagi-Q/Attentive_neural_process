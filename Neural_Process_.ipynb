{
  "nbformat": 4,
  "nbformat_minor": 0,
  "metadata": {
    "colab": {
      "name": "Neural_Process_.ipynb",
      "provenance": [],
      "collapsed_sections": []
    },
    "kernelspec": {
      "name": "python3",
      "display_name": "Python 3"
    },
    "accelerator": "GPU"
  },
  "cells": [
    {
      "cell_type": "code",
      "metadata": {
        "id": "b7aS5iv7k7Y3",
        "colab_type": "code",
        "colab": {}
      },
      "source": [
        "import torch #基本モジュール\n",
        "from torch.utils.data import Dataset, DataLoader\n",
        "import torch.nn as nn #ネットワーク構築用\n",
        "import torch.optim as optim #最適化関数\n",
        "import torch.nn.functional as F #ネットワーク用の様々な関数\n",
        "import torchvision.models as models\n",
        "import cv2\n",
        "import numpy as np\n",
        "from sklearn.model_selection import train_test_split\n",
        "from sklearn.metrics import accuracy_score, roc_curve, auc\n",
        "import matplotlib.pyplot as plt\n",
        "import torchvision\n",
        "import torchvision.transforms as transforms\n",
        "import matplotlib.pyplot as plt"
      ],
      "execution_count": 0,
      "outputs": []
    },
    {
      "cell_type": "code",
      "metadata": {
        "id": "tkwee3ONlH3R",
        "colab_type": "code",
        "colab": {}
      },
      "source": [
        ""
      ],
      "execution_count": 0,
      "outputs": []
    },
    {
      "cell_type": "code",
      "metadata": {
        "id": "AAEqflyRH1cd",
        "colab_type": "code",
        "colab": {}
      },
      "source": [
        ""
      ],
      "execution_count": 0,
      "outputs": []
    },
    {
      "cell_type": "code",
      "metadata": {
        "id": "BsV7m3dZlHyd",
        "colab_type": "code",
        "colab": {}
      },
      "source": [
        "#MLPモジュール\n",
        "class MLP(nn.Module):\n",
        "    def __init__(self, input_dim, hidden_dim, output_dim, layer_num=2):\n",
        "        super(MLP, self).__init__()\n",
        "        \n",
        "        self.linears_prediction = torch.nn.ModuleList()\n",
        "        \n",
        "        self.linears_prediction.append(\n",
        "                    nn.Linear(input_dim, hidden_dim))\n",
        "        \n",
        "        for layer in range(layer_num-2):\n",
        "            self.linears_prediction.append(\n",
        "                    nn.Linear(hidden_dim, hidden_dim))\n",
        "                \n",
        "        self.linears_prediction.append(\n",
        "                    nn.Linear(hidden_dim, output_dim))\n",
        "        \n",
        "    def forward(self, x):\n",
        "      \n",
        "        for i in range(len(self.linears_prediction)-1):\n",
        "            x = torch.relu(self.linears_prediction[i](x))\n",
        "            \n",
        "        x = self.linears_prediction[-1](x)\n",
        "        \n",
        "        return x\n",
        "\n",
        "\n",
        "#Attentive neural process用のMulti_head_self_attention\n",
        "class Multi_head_Attention(nn.Module):\n",
        "    def __init__(self, key_dim, value_dim, embed_dim, num_heads=4, concat=True):\n",
        "        super(Multi_head_Attention, self).__init__()\n",
        "        self.concat = concat\n",
        "        \n",
        "        self.attntion = nn.MultiheadAttention(embed_dim, num_heads)\n",
        "        self.mlp_key = MLP(key_dim, embed_dim, embed_dim)\n",
        "        self.mlp_value = MLP(value_dim, embed_dim, embed_dim)\n",
        "        self.mlp_query = MLP(key_dim, embed_dim, embed_dim)\n",
        "        \n",
        "        if concat:\n",
        "          self.final_linear = MLP(key_dim+embed_dim, embed_dim, embed_dim)\n",
        "          self.residual_dropout = nn.Dropout(p=0.1)\n",
        "          self.layer_norm = nn.LayerNorm(embed_dim)\n",
        "       \n",
        "    def forward(self, x_t, x_c, r_a):\n",
        "      \n",
        "        k_embed = self.mlp_key(x_c).transpose(1,0)\n",
        "        v_embed = self.mlp_value(r_a).transpose(1,0)\n",
        "        q_embed = self.mlp_query(x_t).transpose(1,0)\n",
        "        \n",
        "        query, _ = self.attntion(q_embed, k_embed, v_embed, need_weights=False)\n",
        "        query = query.transpose(1,0)\n",
        "\n",
        "        if self.concat:\n",
        "          query_ = torch.cat([x_t, query], dim=-1)\n",
        "          query_ = self.final_linear(query_)\n",
        "          query_ =  self.residual_dropout(query_)\n",
        "          query = query + query_\n",
        "          query =  self.layer_norm(query)\n",
        "       \n",
        "        return query\n",
        "\n",
        "#Attentive neural process用のself_attention\n",
        "class Self_Attention(nn.Module):\n",
        "    def __init__(self, input_dim, embed_dim, num_heads=1):\n",
        "        super(Self_Attention, self).__init__()\n",
        "        \n",
        "        self.attntion = nn.MultiheadAttention(embed_dim, num_heads)\n",
        "        self.mlp_key = MLP(input_dim, embed_dim, embed_dim)\n",
        "        self.mlp_value = MLP(input_dim, embed_dim, embed_dim)\n",
        "        self.mlp_query = MLP(input_dim, embed_dim, embed_dim)\n",
        "        \n",
        "    def forward(self, x):\n",
        "      \n",
        "        k_embed = self.mlp_key(x).transpose(1,0)\n",
        "        v_embed = self.mlp_value(x).transpose(1,0)\n",
        "        q_embed = self.mlp_query(x).transpose(1,0)\n",
        "        \n",
        "        query, _ = self.attntion(q_embed, k_embed, v_embed, need_weights=False)\n",
        "        \n",
        "        return query.transpose(1,0)\n",
        "\n",
        "#deterministic path\n",
        "class R_encoder(nn.Module):\n",
        "    def __init__(self, x_dim, y_dim, d_dim, r_dim, mlp_num=2, self_attention=False):\n",
        "        super(R_encoder, self).__init__()\n",
        "        \n",
        "        self.mlp = MLP(x_dim+y_dim, d_dim, d_dim, mlp_num)\n",
        "        if self_attention:\n",
        "            self.fc = Self_Attention(d_dim, r_dim)\n",
        "        else:\n",
        "            self.fc = nn.Linear(d_dim, r_dim)\n",
        "                \n",
        "        \n",
        "    def forward(self, x, y): #MNISTならx:(batch, length, (x,y)) y:(batch, length, 1)\n",
        "        \n",
        "        r = torch.cat([x, y], dim=2)\n",
        "        r = torch.relu(self.mlp(r))\n",
        "        r = self.fc(r)\n",
        "        \n",
        "        return  r\n",
        "\n",
        "#Latent path\n",
        "class S_encoder(nn.Module):\n",
        "    def __init__(self, x_dim, y_dim, d_dim, z_dim, mlp_num=1, self_attention=False):\n",
        "        super(S_encoder, self).__init__()\n",
        "\n",
        "        self.z_dim = z_dim\n",
        "        \n",
        "        self.mlp = MLP(x_dim+y_dim, d_dim, d_dim, mlp_num)\n",
        "        self.fc2 = nn.Linear(d_dim, d_dim)\n",
        "        self.fc3 = nn.Linear(d_dim, z_dim)\n",
        "        self.fc4 = nn.Linear(d_dim, z_dim)\n",
        "        if self_attention:\n",
        "            self.fc1 = Self_Attention(d_dim, d_dim)\n",
        "        else:\n",
        "            self.fc1 = nn.Linear(d_dim, d_dim)\n",
        "            \n",
        "    def forward(self, x, y): #MNISTならx:(batch, length, (x,y)) y:(batch, length, 1)\n",
        "        z = torch.cat([x, y], dim=2)\n",
        "        \n",
        "        z = torch.relu(self.mlp(z))\n",
        "        z = torch.relu(self.fc1(z)).mean(1, keepdim=True)\n",
        "        z = torch.relu(self.fc2(z))\n",
        "\n",
        "        z_mu = self.fc3(z)\n",
        "        z_scale = self.fc4(z)\n",
        "        z_scale = 0.1 + 0.9*torch.sigmoid(z_scale)\n",
        "        return z_mu,  z_scale\n",
        "\n",
        "#Decoder\n",
        "class Decoder(nn.Module):\n",
        "    def __init__(self, x_dim, y_dim, d_dim, z_dim, r_dim, mlp_num=2):\n",
        "        super(Decoder, self).__init__()\n",
        "        self.y_dim = y_dim\n",
        "        self.mlp = MLP(x_dim+z_dim+r_dim, d_dim, d_dim, mlp_num)\n",
        "        self.fc = nn.Linear(d_dim, y_dim*2)\n",
        "            \n",
        "\n",
        "    def forward(self, x_, r, z):\n",
        "        y = torch.cat([x_, r, z.repeat(1, x_.size(1), 1)], dim=2)\n",
        "        y = torch.relu(self.mlp(y))\n",
        "        y = self.fc(y)\n",
        "        y_mu = y[:, :, :self.y_dim]\n",
        "        y_scale = 0.1 + 0.9*F.softplus(y[:, :, self.y_dim:])\n",
        "        return  y_mu, y_scale\n",
        "\n",
        "\n",
        "class KL_divergence(nn.Module):\n",
        "    def __init__(self):\n",
        "        super(KL_divergence, self).__init__()\n",
        "        \n",
        "    def forward(self, mu, sigma, nu, tau):\n",
        "\n",
        "        return (((sigma**2 + (mu - nu)**2) / tau**2 - 1 + 2 * torch.log(tau / sigma)).sum(1) / 2)\n",
        "\n",
        "class Log_Likelihood(nn.Module):\n",
        "    def __init__(self):\n",
        "        super(Log_Likelihood, self).__init__()\n",
        "    \n",
        "    def forward(self, mu, sigma, y):  #(batch, 要素, 出力数)\n",
        "        \n",
        "        sigma = sigma**2 #+ 1e-8\n",
        "        det_sigma =  sigma.prod(dim=2, keepdim=True)\n",
        "        \n",
        "        return ((((y - mu) * (1 / sigma) * (y - mu)).sum(2, keepdim=True) + torch.log(det_sigma) + np.log(np.pi*2) * y.size(-1)) / -2.0).mean(1)\n",
        "        \n",
        "\n",
        "#MNIST, FashionMNIST用のデータ生成\n",
        "def context_target_random_split(train_X): \n",
        "    \"\"\"\n",
        "    学習ではN_n=3〜200個の(x_c, y_c)と200-N_n個の(x_t,)が必要なので毎回生成\n",
        "    y_tは正解ラベル\n",
        "    \"\"\"\n",
        "    N = train_X.size(0)\n",
        "    H = train_X.size(2)\n",
        "    W = train_X.size(3)\n",
        "    train_index = torch.Tensor([[i*1., j*1.] for i in range(H) for j in range(W)]).to(device)\n",
        "    train_index = (torch.cat([train_index.unsqueeze(0)] * N, dim=0) / (H-1)) * 2. - 1.  #[-1,1]に正規化 (batch, H*W, 2)\n",
        "    train_y = train_X.contiguous().view(N, -1, 1) #(batch, H*W, 1)\n",
        "    \n",
        "    #各バッチの要素ごとにrandomで混ぜる\n",
        "    perm = np.hstack([np.random.permutation(H*W)+(H*W*i) for i in range(N)])\n",
        "    #print(train_index.size())\n",
        "    train_index = train_index.contiguous().view(-1, 2)[perm].contiguous().view(N, -1, 2)\n",
        "    train_y = train_y.flatten()[perm].contiguous().view(N, -1, 1)\n",
        "    \n",
        "    N_n = np.random.choice(np.arange(3, 200))\n",
        "    N_m = N_n + np.random.choice(np.arange(0, 200 - N_n))\n",
        "    x_c, y_c = train_index[:, :N_n], train_y[:, :N_n]\n",
        "    x_t, y_t = train_index[:, :N_n+N_m], train_y[:, :N_n+N_m]\n",
        "    return x_c, x_t, y_c, y_t\n",
        "\n",
        "\n",
        "#1次元回帰用のデータ生成器\n",
        "def make_data_1D():\n",
        "    \"\"\"\n",
        "    Gaussian kernelに従う関数を生成\n",
        "    \"\"\"\n",
        "    sigma_f = np.random.rand() + 0.1 # 垂直の変化のスケールのハイパーパラメータ[0.1, 1.0]\n",
        "    l = np.random.rand()/2. + 0.1  # 水平の変化のスケールのハイパーパラメータ[0.1, 0.6]\n",
        "    Nx = 100\n",
        "\n",
        "    def k(x, y):\n",
        "\n",
        "        return sigma_f ** 2 * np.exp(- ((x - y) ** 2) / (2 * l ** 2)) + (0.02**2) * np.eye(Nx) #正定値を保証するため\n",
        "    \n",
        "    \n",
        "    def multivariate_normal(cov):\n",
        "        L = np.linalg.cholesky(cov) #コレスキー分解\n",
        "        z = np.random.standard_normal(len(cov)) #標準正規乱数ベクトル\n",
        "        return np.dot(L, z) #行列Lとベクトルzの積\n",
        "    \n",
        "    x = np.random.rand(Nx) * 2. - 1.\n",
        "    X, Y = np.meshgrid(x, x)\n",
        "    K = k(X,Y)\n",
        "    y = multivariate_normal(K) \n",
        "    return x, y\n",
        "\n",
        "def context_target_random_split_1D(data_x, data_y):\n",
        "    \"\"\"\n",
        "    学習ではN_n=3〜100個の(x_c, y_c)と100-N_n個の(x_t,)が必要なので毎回生成\n",
        "    y_tは正解ラベル\n",
        "    \"\"\"\n",
        "    \n",
        "    N_n = np.random.choice(np.arange(3, 100))\n",
        "    N_m = np.random.choice(np.arange(0, 100 - N_n))\n",
        "    \n",
        "    N = data_x.shape[1]\n",
        "    perm = np.random.permutation(np.arange(N))\n",
        "    data_x, data_y = data_x[:, perm], data_y[:, perm]\n",
        "    \n",
        "    x_c = data_x[:, :N_n]\n",
        "    y_c = data_y[:, :N_n]  \n",
        "    x_t = data_x[:, :N_n+N_m]\n",
        "    y_t = data_y[:, :N_n+N_m]\n",
        "    \n",
        "    return x_c, x_t, y_c, y_t"
      ],
      "execution_count": 0,
      "outputs": []
    },
    {
      "cell_type": "code",
      "metadata": {
        "id": "LNJI_h1ClHv3",
        "colab_type": "code",
        "outputId": "fa704eb9-f19f-4890-f930-724bcbf14fb4",
        "colab": {
          "base_uri": "https://localhost:8080/",
          "height": 282
        }
      },
      "source": [
        "#データ生成例\n",
        "x, y = make_data_1D()\n",
        "plt.scatter(x, y)"
      ],
      "execution_count": 0,
      "outputs": [
        {
          "output_type": "execute_result",
          "data": {
            "text/plain": [
              "<matplotlib.collections.PathCollection at 0x7f36d534f8d0>"
            ]
          },
          "metadata": {
            "tags": []
          },
          "execution_count": 7
        },
        {
          "output_type": "display_data",
          "data": {
            "image/png": "[encoded data removed]",
            "text/plain": [
              "<Figure size 432x288 with 1 Axes>"
            ]
          },
          "metadata": {
            "tags": []
          }
        }
      ]
    },
    {
      "cell_type": "code",
      "metadata": {
        "id": "uLOKXCyqlHtk",
        "colab_type": "code",
        "outputId": "3c0aec91-9460-40a7-f383-efe11dbb0bf8",
        "colab": {
          "base_uri": "https://localhost:8080/",
          "height": 34
        }
      },
      "source": [
        ""
      ],
      "execution_count": 0,
      "outputs": [
        {
          "output_type": "stream",
          "text": [
            "cuda\n"
          ],
          "name": "stdout"
        }
      ]
    },
    {
      "cell_type": "code",
      "metadata": {
        "id": "gIl3pGxFlHrd",
        "colab_type": "code",
        "outputId": "af0c9cac-4ee2-4979-efc7-f87bc4c51e53",
        "colab": {
          "base_uri": "https://localhost:8080/",
          "height": 697
        }
      },
      "source": [
        "#1次元バージョンの回帰\n",
        "#パラメータ\n",
        "z_dim = 128\n",
        "r_dim = 128\n",
        "d_dim = 150\n",
        "x_dim = 1\n",
        "y_dim = 1\n",
        "device = torch.device(\"cuda\" if torch.cuda.is_available() else \"cpu\")\n",
        "print(device, flush=True)\n",
        "\n",
        "r_encoder = R_encoder(x_dim, y_dim, d_dim, r_dim, self_attention=True).to(device) # (x,y)->r\n",
        "s_encoder = S_encoder(x_dim, y_dim, d_dim, z_dim, self_attention=True).to(device) # (x,y)->z\n",
        "mh_attention = Multi_head_Attention(x_dim, r_dim, r_dim, num_heads=8).to(device)\n",
        "decoder = Decoder(x_dim, y_dim, d_dim, z_dim, r_dim).to(device) # (x*, r, z) -> y*\n",
        "kl_divergence = KL_divergence().to(device)\n",
        "log_Likelihood = Log_Likelihood().to(device)\n",
        "opt_d = torch.optim.Adam(decoder.parameters(), 1e-4)\n",
        "opt_r = torch.optim.Adam(r_encoder.parameters(), 1e-4)\n",
        "opt_s = torch.optim.Adam(s_encoder.parameters(), 1e-4)\n",
        "opt_a = torch.optim.Adam(mh_attention.parameters(), 1e-4)\n",
        "\n",
        "r_encoder.train()\n",
        "s_encoder.train()\n",
        "mh_attention.train()\n",
        "decoder.train()\n",
        "\n",
        "\n",
        "# 訓練\n",
        "train_loss = 0.\n",
        "batch_size = 30\n",
        "get_points = 4 #関数は変えずに獲得点だけを変える操作の回数\n",
        "\n",
        "for i in range(30000):\n",
        "  \n",
        "    # context target split\n",
        "    x_list = []\n",
        "    y_list = []\n",
        "    for b in range(batch_size):\n",
        "        data_x, data_y = make_data_1D()\n",
        "        x_list += [data_x]\n",
        "        y_list += [data_y]\n",
        "    \n",
        "    data_x = torch.Tensor(x_list).float().to(device).contiguous().view(batch_size, -1, x_dim)\n",
        "    data_y = torch.Tensor(y_list).float().to(device).contiguous().view(batch_size, -1, y_dim)\n",
        "    for j in range(get_points): \n",
        "        opt_d.zero_grad()\n",
        "        opt_r.zero_grad()\n",
        "        opt_s.zero_grad()\n",
        "        opt_a.zero_grad()\n",
        "        x_c, x_t, y_c, y_t = context_target_random_split_1D(data_x, data_y)\n",
        "\n",
        "        r = r_encoder(x_c, y_c)\n",
        "        r_mean = mh_attention(x_t, x_c, r)\n",
        "\n",
        "        t_mu,  t_sigma = s_encoder(x_t, y_t)\n",
        "        c_mu, c_sigma = s_encoder(x_c, y_c)\n",
        "\n",
        "        t_z = torch.distributions.Normal(0.0, 1.0).sample(t_mu.size()).to(device)*t_sigma + t_mu\n",
        "\n",
        "        mu, sigma = decoder(x_t, r_mean, t_z)\n",
        "\n",
        "        kl = kl_divergence(t_mu,  t_sigma, c_mu, c_sigma).mean()\n",
        "        ll = log_Likelihood(mu, sigma, y_t)\n",
        "        loss = kl.mean() - ll.mean()\n",
        "\n",
        "        loss.backward()\n",
        "        opt_d.step()\n",
        "        opt_r.step()\n",
        "        opt_s.step()\n",
        "        opt_a.step()\n",
        "\n",
        "        train_loss += loss.item()\n",
        "\n",
        "    # print statistics\n",
        "    if (i+1) % 500 == 0:\n",
        "      print(\"i: %d train_mean_loss %f\" %(i+1, train_loss/(500*2)))\n",
        "      train_loss = 0."
      ],
      "execution_count": 0,
      "outputs": [
        {
          "output_type": "stream",
          "text": [
            "i: 500 train_mean_loss -1.988202\n",
            "i: 1000 train_mean_loss -1.983120\n",
            "i: 1500 train_mean_loss -2.011178\n",
            "i: 2000 train_mean_loss -2.070533\n",
            "i: 2500 train_mean_loss -2.111909\n",
            "i: 3000 train_mean_loss -2.089760\n",
            "i: 3500 train_mean_loss -2.072363\n",
            "i: 4000 train_mean_loss -2.148615\n",
            "i: 4500 train_mean_loss -2.129896\n",
            "i: 5000 train_mean_loss -2.116641\n",
            "i: 5500 train_mean_loss -2.151694\n",
            "i: 6000 train_mean_loss -2.133606\n",
            "i: 6500 train_mean_loss -2.105709\n",
            "i: 7000 train_mean_loss -2.198707\n",
            "i: 7500 train_mean_loss -2.178588\n",
            "i: 8000 train_mean_loss -2.161698\n",
            "i: 8500 train_mean_loss -2.154617\n",
            "i: 9000 train_mean_loss -2.127814\n",
            "i: 9500 train_mean_loss -2.202831\n",
            "i: 10000 train_mean_loss -2.168825\n",
            "i: 10500 train_mean_loss -2.222575\n",
            "i: 11000 train_mean_loss -2.171509\n",
            "i: 11500 train_mean_loss -2.269705\n",
            "i: 12000 train_mean_loss -2.197255\n",
            "i: 12500 train_mean_loss -2.206057\n",
            "i: 13000 train_mean_loss -2.252359\n",
            "i: 13500 train_mean_loss -2.228491\n",
            "i: 14000 train_mean_loss -2.216927\n",
            "i: 14500 train_mean_loss -2.231901\n",
            "i: 15000 train_mean_loss -2.286687\n",
            "i: 15500 train_mean_loss -2.229981\n",
            "i: 16000 train_mean_loss -2.275193\n",
            "i: 16500 train_mean_loss -2.249374\n",
            "i: 17000 train_mean_loss -2.312412\n",
            "i: 17500 train_mean_loss -2.251477\n",
            "i: 18000 train_mean_loss -2.294647\n",
            "i: 18500 train_mean_loss -2.280578\n",
            "i: 19000 train_mean_loss -2.266963\n",
            "i: 19500 train_mean_loss -2.247141\n",
            "i: 20000 train_mean_loss -2.286793\n"
          ],
          "name": "stdout"
        }
      ]
    },
    {
      "cell_type": "code",
      "metadata": {
        "id": "E3Aa5-hXlHon",
        "colab_type": "code",
        "colab": {}
      },
      "source": [
        "#1次元テストデータの生成\n",
        "def context_target_random_split_1D_test(context_num, gaussian=True):\n",
        "    \"\"\"\n",
        "    gaussian=True : Gaussian kernelに従う関数\n",
        "    gaussian=False : 適当な三角関数\n",
        "    \"\"\"\n",
        "    if gaussian:\n",
        "      sigma_f = np.random.rand() + 0.1 # 垂直の変化のスケールのハイパーパラメータ[0.1, 1.0]\n",
        "      l = np.random.rand()/2. + 0.1  # 水平の変化のスケールのハイパーパラメータ[0.1, 0.6]\n",
        "\n",
        "      def k(x, y):\n",
        "          return sigma_f ** 2 * np.exp(- ((x - y) ** 2) / (2 * l ** 2))\n",
        "        \n",
        "      \"\"\"\n",
        "      x_c = np.random.rand(context_num) * 2. - 1.\n",
        "      X, Y = np.meshgrid(x_c, x_c)\n",
        "      K = np.vectorize(k)(X, Y)\n",
        "      y_c = np.random.multivariate_normal(x_c*0 , K) + np.random.normal(0, 0.02, context_num)\n",
        "      \"\"\"\n",
        "      x_t = np.arange(0, 1, 0.001) * 2. - 1.\n",
        "      X, Y = np.meshgrid(x_t, x_t)\n",
        "      K = k(X,Y)\n",
        "      y_t = np.random.multivariate_normal(x_t*0 , K)\n",
        "      x_c_index = np.random.choice(range(1000), context_num)\n",
        "      x_c = x_t[x_c_index]\n",
        "      y_c = y_t[x_c_index] + np.random.normal(0, 0.02, context_num)\n",
        "    \n",
        "    else:\n",
        "      scale = np.random.rand() + 0.5 #垂直の変化のスケールのハイパーパラメータ[0.5, 1.5]\n",
        "      \n",
        "      x_t = np.arange(0, 1, 0.001)\n",
        "      y_t = scale * np.sin(2 * np.pi * x_t) * np.cos(4 * np.pi * x_t)\n",
        "      x_c_index = np.random.choice(range(1000), context_num)\n",
        "      x_c = x_t[x_c_index]\n",
        "      y_c = y_t[x_c_index] + np.random.normal(0, 0.02, context_num)\n",
        "    \n",
        "    return x_c.reshape(-1, context_num, 1), x_t.reshape(-1, 1000, 1), y_c.reshape(-1, context_num, 1), y_t.reshape(-1, 1000, 1)"
      ],
      "execution_count": 0,
      "outputs": []
    },
    {
      "cell_type": "code",
      "metadata": {
        "id": "87WfYpItlHmy",
        "colab_type": "code",
        "outputId": "e68d59d9-c73e-4924-f745-46ad1ec2225a",
        "colab": {
          "base_uri": "https://localhost:8080/",
          "height": 282
        }
      },
      "source": [
        "r_encoder.eval()\n",
        "s_encoder.eval()\n",
        "mh_attention.eval()\n",
        "decoder.eval()\n",
        "\n",
        "#与えるデータ点数\n",
        "context_num = 10\n",
        "\n",
        "#回帰を行う\n",
        "\n",
        "x_c, x_t, y_c, y_t = context_target_random_split_1D_test(context_num, gaussian=True)\n",
        "x_c = torch.from_numpy(x_c.astype(\"float32\")).to(device)\n",
        "x_t = torch.from_numpy(x_t.astype(\"float32\")).to(device)\n",
        "y_c = torch.from_numpy(y_c.astype(\"float32\")).to(device)\n",
        "y_t = torch.from_numpy(y_t.astype(\"float32\")).to(device)\n",
        "\n",
        "r = r_encoder(x_c, y_c)\n",
        "r_mean = mh_attention(x_t, x_c, r)\n",
        "\n",
        "t_mu,  t_sigma = s_encoder(x_t, y_t)\n",
        "c_mu, c_sigma = s_encoder(x_c, y_c)\n",
        "\n",
        "c_z = torch.distributions.Normal(0.0, 1.0).sample(t_mu.size()).to(device)*c_sigma + c_mu\n",
        "\n",
        "mu, sigma = decoder(x_t, r_mean, c_z)\n",
        "z = torch.distributions.Normal(mu, sigma).sample()\n",
        "\n",
        "#可視化 \n",
        "#オレンジ実線：事後平均\n",
        "#青実線：真の関数\n",
        "#帯：事後標準偏差の1倍区間\n",
        "#オレンジ点：観測済みデータ\n",
        "plot_mu = mu.detach().cpu().numpy().flatten()\n",
        "plot_sigma = sigma.detach().cpu().numpy().flatten()\n",
        "plot_x = x_t.cpu().numpy().flatten()\n",
        "plot_y =  y_t.cpu().numpy().flatten()\n",
        "\n",
        "plt.plot(plot_x, plot_y)\n",
        "plt.plot(plot_x, plot_mu)\n",
        "plt.fill_between(plot_x, plot_mu-plot_sigma, plot_mu+plot_sigma, alpha=0.5)\n",
        "plt.scatter(x_c.cpu().numpy().flatten(), y_c.cpu().numpy().flatten())"
      ],
      "execution_count": 0,
      "outputs": [
        {
          "output_type": "execute_result",
          "data": {
            "text/plain": [
              "<matplotlib.collections.PathCollection at 0x7f36c05917f0>"
            ]
          },
          "metadata": {
            "tags": []
          },
          "execution_count": 62
        },
        {
          "output_type": "display_data",
          "data": {
            "image/png": "[encoded data removed]",
            "text/plain": [
              "<Figure size 432x288 with 1 Axes>"
            ]
          },
          "metadata": {
            "tags": []
          }
        }
      ]
    },
    {
      "cell_type": "code",
      "metadata": {
        "id": "mswpFhDDlHj-",
        "colab_type": "code",
        "colab": {}
      },
      "source": [
        ""
      ],
      "execution_count": 0,
      "outputs": []
    },
    {
      "cell_type": "code",
      "metadata": {
        "id": "3TgX3ne1lHiD",
        "colab_type": "code",
        "colab": {}
      },
      "source": [
        ""
      ],
      "execution_count": 0,
      "outputs": []
    },
    {
      "cell_type": "code",
      "metadata": {
        "id": "VJka-l9YlHfY",
        "colab_type": "code",
        "colab": {}
      },
      "source": [
        ""
      ],
      "execution_count": 0,
      "outputs": []
    },
    {
      "cell_type": "code",
      "metadata": {
        "id": "j_n91N1iSS_m",
        "colab_type": "code",
        "outputId": "123b4954-df4f-4a2b-8523-53dbfa96f1d0",
        "colab": {
          "base_uri": "https://localhost:8080/",
          "height": 275
        }
      },
      "source": [
        "#MNISTデータセット\n",
        "\n",
        "class ts1():\n",
        "    def __init__(self):\n",
        "        \"\"\"\n",
        "        Args:\n",
        "            im_size: crop size\n",
        "        \"\"\"\n",
        "\n",
        "    def __call__(self, sample):\n",
        "        sample =  sample  - 0.5 #スケールを-0.5~0.5に変更\n",
        "        \n",
        "\n",
        "        return sample\n",
        "\n",
        "\n",
        "      \n",
        "transform1 = transforms.Compose(\n",
        "    [transforms.ToTensor(),\n",
        "     ts1()])\n",
        "transform2 = transforms.Compose(\n",
        "    [transforms.ToTensor(),\n",
        "     ts1()])\n",
        "trainset = torchvision.datasets.MNIST(root='./data', \n",
        "                                        train=True,\n",
        "                                        download=True,\n",
        "                                        transform=transform1)\n",
        "trainloader = torch.utils.data.DataLoader(trainset,\n",
        "                                            batch_size=128,\n",
        "                                            shuffle=True,\n",
        "                                            num_workers=2)\n",
        "\n",
        "testset = torchvision.datasets.MNIST(root='./data', \n",
        "                                        train=False, \n",
        "                                        download=True, \n",
        "                                        transform=transform2)\n",
        "testloader = torch.utils.data.DataLoader(testset, \n",
        "                                            batch_size=128,\n",
        "                                            shuffle=False, \n",
        "                                            num_workers=2)"
      ],
      "execution_count": 0,
      "outputs": [
        {
          "output_type": "stream",
          "text": [
            "  0%|          | 0/9912422 [00:00<?, ?it/s]"
          ],
          "name": "stderr"
        },
        {
          "output_type": "stream",
          "text": [
            "Downloading http://yann.lecun.com/exdb/mnist/train-images-idx3-ubyte.gz to ./data/MNIST/raw/train-images-idx3-ubyte.gz\n"
          ],
          "name": "stdout"
        },
        {
          "output_type": "stream",
          "text": [
            "9920512it [00:00, 27976047.81it/s]                            \n"
          ],
          "name": "stderr"
        },
        {
          "output_type": "stream",
          "text": [
            "Extracting ./data/MNIST/raw/train-images-idx3-ubyte.gz to ./data/MNIST/raw\n"
          ],
          "name": "stdout"
        },
        {
          "output_type": "stream",
          "text": [
            "32768it [00:00, 456222.83it/s]\n",
            "  1%|          | 16384/1648877 [00:00<00:11, 145008.09it/s]"
          ],
          "name": "stderr"
        },
        {
          "output_type": "stream",
          "text": [
            "Downloading http://yann.lecun.com/exdb/mnist/train-labels-idx1-ubyte.gz to ./data/MNIST/raw/train-labels-idx1-ubyte.gz\n",
            "Extracting ./data/MNIST/raw/train-labels-idx1-ubyte.gz to ./data/MNIST/raw\n",
            "Downloading http://yann.lecun.com/exdb/mnist/t10k-images-idx3-ubyte.gz to ./data/MNIST/raw/t10k-images-idx3-ubyte.gz\n"
          ],
          "name": "stdout"
        },
        {
          "output_type": "stream",
          "text": [
            "1654784it [00:00, 7190039.28it/s]                            \n",
            "8192it [00:00, 171589.35it/s]\n"
          ],
          "name": "stderr"
        },
        {
          "output_type": "stream",
          "text": [
            "Extracting ./data/MNIST/raw/t10k-images-idx3-ubyte.gz to ./data/MNIST/raw\n",
            "Downloading http://yann.lecun.com/exdb/mnist/t10k-labels-idx1-ubyte.gz to ./data/MNIST/raw/t10k-labels-idx1-ubyte.gz\n",
            "Extracting ./data/MNIST/raw/t10k-labels-idx1-ubyte.gz to ./data/MNIST/raw\n",
            "Processing...\n",
            "Done!\n"
          ],
          "name": "stdout"
        }
      ]
    },
    {
      "cell_type": "code",
      "metadata": {
        "id": "cCS32n_4SW2O",
        "colab_type": "code",
        "colab": {}
      },
      "source": [
        "#FashionMNISTデータセット\n",
        "\n",
        "class ts1():\n",
        "    def __init__(self):\n",
        "        \"\"\"\n",
        "        Args:\n",
        "            im_size: crop size\n",
        "        \"\"\"\n",
        "\n",
        "    def __call__(self, sample):\n",
        "        sample =  sample  - 0.5  #スケールを-0.5~0.5に変更\n",
        "        \n",
        "\n",
        "        return sample\n",
        "         \n",
        "transform1 = transforms.Compose(\n",
        "    [transforms.ToTensor(),\n",
        "     ts1()])\n",
        "transform2 = transforms.Compose(\n",
        "    [transforms.ToTensor(),\n",
        "     ts1()])\n",
        "\n",
        "fashion_mnist_data = torchvision.datasets.FashionMNIST(\n",
        "    './fashion-mnist',\n",
        "    transform=transform1,\n",
        "    download=True)\n",
        "\n",
        "trainloader = torch.utils.data.DataLoader(\n",
        "    dataset=fashion_mnist_data,\n",
        "    batch_size=128,\n",
        "    shuffle=True,\n",
        "    num_workers=2)\n",
        "\n",
        "fashion_mnist_data_test = torchvision.datasets.FashionMNIST(\n",
        "    './fashion-mnist',\n",
        "    transform=transform2,\n",
        "    train=False,\n",
        "    download=True)\n",
        "\n",
        "testloader = torch.utils.data.DataLoader(\n",
        "    dataset=fashion_mnist_data_test,\n",
        "    batch_size=128,\n",
        "    shuffle=False,\n",
        "    num_workers=2)"
      ],
      "execution_count": 0,
      "outputs": []
    },
    {
      "cell_type": "code",
      "metadata": {
        "id": "TOY0hmdrlHc0",
        "colab_type": "code",
        "outputId": "9debe609-d114-44f7-b9a7-71f402818b0e",
        "colab": {
          "base_uri": "https://localhost:8080/",
          "height": 884
        }
      },
      "source": [
        "#2次元バージョンの回帰\n",
        "#パラメータ\n",
        "z_dim = 128\n",
        "r_dim = 128\n",
        "d_dim = 150\n",
        "x_dim = 2\n",
        "y_dim = 1\n",
        "device = torch.device(\"cuda\" if torch.cuda.is_available() else \"cpu\")\n",
        "print(device, flush=True)\n",
        "\n",
        "r_encoder = R_encoder(x_dim, y_dim, d_dim, r_dim, self_attention=True).to(device) # (x,y)->r\n",
        "s_encoder = S_encoder(x_dim, y_dim, d_dim, z_dim, self_attention=True).to(device) # (x,y)->z\n",
        "mh_attention = Multi_head_Attention(x_dim, r_dim, r_dim, num_heads=8).to(device)\n",
        "decoder = Decoder(x_dim, y_dim, d_dim, z_dim, r_dim).to(device) # (x*, r, z) -> y*\n",
        "kl_divergence = KL_divergence().to(device)\n",
        "log_Likelihood = Log_Likelihood().to(device)\n",
        "opt_d = torch.optim.Adam(decoder.parameters(), 1e-4)\n",
        "opt_r = torch.optim.Adam(r_encoder.parameters(), 1e-4)\n",
        "opt_s = torch.optim.Adam(s_encoder.parameters(), 1e-4)\n",
        "opt_a = torch.optim.Adam(mh_attention.parameters(), 1e-4)\n",
        "\n",
        "r_encoder.train()\n",
        "s_encoder.train()\n",
        "mh_attention.train()\n",
        "decoder.train()\n",
        "\n",
        "get_points = 2 #画像は変えずに獲得点だけを変える操作の回数\n",
        "\n",
        "# 訓練\n",
        "train_loss = 0.\n",
        "\n",
        "for i in range(50):\n",
        "  \n",
        "    for j, (inputs, labels) in enumerate(trainloader):\n",
        "      \n",
        "        inputs =  inputs.to(device)\n",
        "        \n",
        "        for m in range(get_points):\n",
        "            opt_d.zero_grad()\n",
        "            opt_r.zero_grad()\n",
        "            opt_s.zero_grad()\n",
        "            opt_a.zero_grad()\n",
        "\n",
        "            #context_target_random_split(inputs)\n",
        "            x_c, x_t, y_c, y_t = context_target_random_split(inputs)\n",
        "\n",
        "            r = r_encoder(x_c, y_c)\n",
        "            r_mean = mh_attention(x_t, x_c, r)\n",
        "\n",
        "            t_mu,  t_sigma = s_encoder(x_t, y_t)\n",
        "            c_mu, c_sigma = s_encoder(x_c, y_c)\n",
        "            #print(t_mu.size())\n",
        "            #t_mu_,  t_sigma_ = t_mu.repeat(1, x_t.size(1), 1), t_sigma.repeat(1, x_t.size(1), 1)\n",
        "\n",
        "            t_z = torch.distributions.Normal(0.0, 1.0).sample(t_mu.size()).to(device)*t_sigma + t_mu\n",
        "            #c_z = torch.distributions.Normal(0.0, 1.0).sample(t_mu.size())*c_sigma + c_mu\n",
        "\n",
        "            mu, sigma = decoder(x_t, r_mean, t_z)\n",
        "\n",
        "            kl = kl_divergence(t_mu,  t_sigma, c_mu, c_sigma).mean()\n",
        "            ll = log_Likelihood(mu, sigma, y_t)\n",
        "            #print(kl.mean().item(),  ll.mean().item())\n",
        "            loss = kl.mean() - ll.mean()\n",
        "\n",
        "            loss.backward()\n",
        "            opt_d.step()\n",
        "            opt_r.step()\n",
        "            opt_s.step()\n",
        "            opt_a.step()\n",
        "\n",
        "            train_loss += loss.item()\n",
        "\n",
        "    # print statistics\n",
        "    print(\"i: %d train_mean_loss %f\" %(i+1, train_loss/(5*len(trainloader))))\n",
        "    train_loss = 0."
      ],
      "execution_count": 0,
      "outputs": [
        {
          "output_type": "stream",
          "text": [
            "cuda\n",
            "i: 1 train_mean_loss -0.155019\n",
            "i: 2 train_mean_loss -0.261561\n",
            "i: 3 train_mean_loss -0.291994\n",
            "i: 4 train_mean_loss -0.307320\n",
            "i: 5 train_mean_loss -0.322981\n",
            "i: 6 train_mean_loss -0.331868\n",
            "i: 7 train_mean_loss -0.336060\n",
            "i: 8 train_mean_loss -0.339506\n",
            "i: 9 train_mean_loss -0.346627\n",
            "i: 10 train_mean_loss -0.344870\n",
            "i: 11 train_mean_loss -0.347646\n",
            "i: 12 train_mean_loss -0.352250\n",
            "i: 13 train_mean_loss -0.353835\n",
            "i: 14 train_mean_loss -0.357325\n",
            "i: 15 train_mean_loss -0.354847\n",
            "i: 16 train_mean_loss -0.362759\n",
            "i: 17 train_mean_loss -0.362797\n",
            "i: 18 train_mean_loss -0.360429\n",
            "i: 19 train_mean_loss -0.363215\n",
            "i: 20 train_mean_loss -0.363782\n",
            "i: 21 train_mean_loss -0.365677\n",
            "i: 22 train_mean_loss -0.363683\n",
            "i: 23 train_mean_loss -0.368834\n",
            "i: 24 train_mean_loss -0.364776\n",
            "i: 25 train_mean_loss -0.369882\n",
            "i: 26 train_mean_loss -0.369116\n",
            "i: 27 train_mean_loss -0.369873\n",
            "i: 28 train_mean_loss -0.373146\n",
            "i: 29 train_mean_loss -0.371698\n",
            "i: 30 train_mean_loss -0.367741\n",
            "i: 31 train_mean_loss -0.372084\n",
            "i: 32 train_mean_loss -0.375971\n",
            "i: 33 train_mean_loss -0.378160\n",
            "i: 34 train_mean_loss -0.377322\n",
            "i: 35 train_mean_loss -0.375640\n",
            "i: 36 train_mean_loss -0.379931\n",
            "i: 37 train_mean_loss -0.378591\n",
            "i: 38 train_mean_loss -0.378997\n",
            "i: 39 train_mean_loss -0.384682\n",
            "i: 40 train_mean_loss -0.381632\n",
            "i: 41 train_mean_loss -0.386718\n",
            "i: 42 train_mean_loss -0.386042\n",
            "i: 43 train_mean_loss -0.382916\n",
            "i: 44 train_mean_loss -0.381873\n",
            "i: 45 train_mean_loss -0.383538\n",
            "i: 46 train_mean_loss -0.384164\n",
            "i: 47 train_mean_loss -0.388008\n",
            "i: 48 train_mean_loss -0.390458\n",
            "i: 49 train_mean_loss -0.385982\n",
            "i: 50 train_mean_loss -0.391902\n"
          ],
          "name": "stdout"
        }
      ]
    },
    {
      "cell_type": "code",
      "metadata": {
        "id": "bGWyAERClHaR",
        "colab_type": "code",
        "colab": {}
      },
      "source": [
        " #MNIST, FashionMNIST用テストデータ生成\n",
        "\n",
        "def context_target_random_split_test(test_X, N_n=10):\n",
        "    \n",
        "    N = test_X.size(0)\n",
        "    H = test_X.size(2)\n",
        "    W = test_X.size(3)\n",
        "    test_index = torch.Tensor([[i*1., j*1.] for i in range(H) for j in range(W)]).to(device)\n",
        "    test_index = (torch.cat([test_index.unsqueeze(0)] * N, dim=0) / (H-1)) * 2. - 1. #[-1,1]に正規化 (batch, H*W, 2)\n",
        "    test_y = test_X.contiguous().view(N, -1, 1) #(batch, H*W, 1)\n",
        "    \n",
        "    #各バッチの要素ごとにrandomで混ぜる\n",
        "    perm = np.hstack([np.random.permutation(H*W)+(H*W*i) for i in range(N)])\n",
        "    test_index_ = test_index.contiguous().view(-1, 2)[perm].contiguous().view(N, -1, 2)\n",
        "    test_y_ = test_y.flatten()[perm].contiguous().view(N, -1, 1)\n",
        "    \n",
        "    x_c, y_c = test_index_[:, :N_n], test_y_[:, :N_n]\n",
        "    x_t, y_t = test_index, test_y\n",
        "    \n",
        "    return x_c, x_t, y_c, y_t "
      ],
      "execution_count": 0,
      "outputs": []
    },
    {
      "cell_type": "code",
      "metadata": {
        "id": "RIELLsOclHTj",
        "colab_type": "code",
        "colab": {}
      },
      "source": [
        "r_encoder.eval()\n",
        "s_encoder.eval()\n",
        "mh_attention.eval()\n",
        "decoder.eval()\n",
        "\n",
        "context_num = 50 #獲得点数\n",
        "\n",
        "for j, (inputs, labels) in enumerate(testloader):\n",
        "      \n",
        "        inputs =  inputs.to(device)\n",
        "        \n",
        "        opt_d.zero_grad()\n",
        "        opt_r.zero_grad()\n",
        "        opt_s.zero_grad()\n",
        "        opt_a.zero_grad()\n",
        "        \n",
        "        x_c, x_t, y_c, y_t = context_target_random_split_test(inputs, N_n=context_num)\n",
        "        #x_c, x_t, y_c, y_t = context_target_random_split_test_(inputs)\n",
        "       \n",
        "        break #1イテレーションで終了\n",
        "\n",
        "r = r_encoder(x_c, y_c)\n",
        "r_mean = mh_attention(x_t, x_c, r)\n",
        "\n",
        "t_mu,  t_sigma = s_encoder(x_t, y_t)\n",
        "c_mu, c_sigma = s_encoder(x_c, y_c)\n",
        "\n",
        "c_z = torch.distributions.Normal(0.0, 1.0).sample(t_mu.size()).to(device)*c_sigma + c_mu\n",
        "\n",
        "mu, sigma = decoder(x_t, r_mean, c_z)\n",
        "z = torch.distributions.Normal(mu, sigma).sample()\n",
        "\n"
      ],
      "execution_count": 0,
      "outputs": []
    },
    {
      "cell_type": "code",
      "metadata": {
        "id": "MEIWtF8uv4t3",
        "colab_type": "code",
        "outputId": "3bc36620-1de1-4398-a6cb-e5ba2b0cb0e6",
        "colab": {
          "base_uri": "https://localhost:8080/",
          "height": 123
        }
      },
      "source": [
        "#可視化\n",
        "#右から, 元画像, 獲得点, 平均, 標準偏差\n",
        "\n",
        "select_num = 10 #表示インデックス\n",
        "\n",
        "x_c_ = np.round(((x_c.detach().cpu().numpy()[select_num] + 1)*27 / 2.)).astype(int)\n",
        "y_c_plt = np.zeros((28,28,3), dtype=float)\n",
        "y_c_plt[:,:,2] = 1.\n",
        "y_c_ = y_c.detach().cpu().numpy()[select_num] + 0.5\n",
        "\n",
        "for i in range(len(x_c_)):\n",
        "    y_c_plt[x_c_[i][0], x_c_[i][1], :] = y_c_[i][0]\n",
        "\n",
        "ax = plt.subplot(1, 4, 1)\n",
        "plt.imshow(y_t.detach().cpu().numpy()[select_num].reshape(28,28))\n",
        "plt.gray()\n",
        "ax = plt.subplot(1, 4, 2)\n",
        "plt.imshow(y_c_plt)\n",
        "ax = plt.subplot(1, 4, 3)\n",
        "plt.imshow(mu.detach().cpu().numpy()[select_num].reshape(28,28))\n",
        "plt.gray()\n",
        "ax = plt.subplot(1, 4, 4)\n",
        "plt.imshow(sigma.detach().cpu().numpy()[select_num].reshape(28,28))\n",
        "plt.gray()\n",
        "plt.show()"
      ],
      "execution_count": 0,
      "outputs": [
        {
          "output_type": "display_data",
          "data": {
            "image/png": "[encoded data removed]",
            "text/plain": [
              "<Figure size 432x288 with 4 Axes>"
            ]
          },
          "metadata": {
            "tags": []
          }
        }
      ]
    },
    {
      "cell_type": "code",
      "metadata": {
        "id": "xgKf_WpBv4pJ",
        "colab_type": "code",
        "colab": {}
      },
      "source": [
        ""
      ],
      "execution_count": 0,
      "outputs": []
    },
    {
      "cell_type": "code",
      "metadata": {
        "id": "0P4vfdt6v4h9",
        "colab_type": "code",
        "colab": {}
      },
      "source": [
        ""
      ],
      "execution_count": 0,
      "outputs": []
    }
  ]
}